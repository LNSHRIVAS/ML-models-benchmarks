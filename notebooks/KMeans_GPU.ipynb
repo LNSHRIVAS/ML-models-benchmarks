{
  "nbformat": 4,
  "nbformat_minor": 0,
  "metadata": {
    "colab": {
      "provenance": [],
      "gpuType": "T4"
    },
    "kernelspec": {
      "name": "python3",
      "display_name": "Python 3"
    },
    "language_info": {
      "name": "python"
    },
    "accelerator": "GPU"
  },
  "cells": [
    {
      "cell_type": "code",
      "source": [
        "# Step 1: Install RAPIDS\n",
        "!git clone https://github.com/rapidsai/rapidsai-csp-utils.git\n",
        "!bash rapidsai-csp-utils/colab/rapids-colab.sh\n",
        "\n",
        "# Step 2: Restart the runtime after this step, then run the next cell:\n",
        "import sys, os\n",
        "sys.path.append('/usr/local/lib/python3.10/site-packages')\n"
      ],
      "metadata": {
        "id": "kLhUQbQzirbd",
        "colab": {
          "base_uri": "https://localhost:8080/"
        },
        "outputId": "7f088a3d-3f44-4f60-aebe-333f0a4e0c86"
      },
      "execution_count": null,
      "outputs": [
        {
          "output_type": "stream",
          "name": "stdout",
          "text": [
            "Cloning into 'rapidsai-csp-utils'...\n",
            "remote: Enumerating objects: 592, done.\u001b[K\n",
            "remote: Counting objects: 100% (158/158), done.\u001b[K\n",
            "remote: Compressing objects: 100% (76/76), done.\u001b[K\n",
            "remote: Total 592 (delta 125), reused 82 (delta 82), pack-reused 434 (from 3)\u001b[K\n",
            "Receiving objects: 100% (592/592), 194.79 KiB | 5.41 MiB/s, done.\n",
            "Resolving deltas: 100% (299/299), done.\n",
            "PLEASE READ FOR 21.06\n",
            "********************************************************************************************************\n",
            "Another release, another script change.  We had to revise the script, which now:\n",
            "1. Does a more comprehensive install\n",
            "2. Includes BlazingSQL\n",
            "3. is far easier for everyone to understand and maintain\n",
            "\n",
            "The script will require you to add these 5 cells to your notebook.  We have also created a new startup template: \n",
            "https://colab.research.google.com/drive/1TAAi_szMfWqRfHVfjGSqnGVLr_ztzUM9?usp=sharing\n",
            "\n",
            "CHANGES T\n",
            "CELL 1:\n",
            "    # This get the RAPIDS-Colab install files and test check your GPU.  Run cells 1 and 2 only.\n",
            "    # Please read the output of this cell.  If your Colab Instance is not RAPIDS compatible, it will warn you and give you remediation steps.\n",
            "    !git clone https://github.com/rapidsai/rapidsai-csp-utils.git\n",
            "    !python rapidsai-csp-utils/colab/env-check.py\n",
            "\n",
            "CELL 2:\n",
            "    # This will update the Colab environment and restart the kernel.\n",
            "    !bash rapidsai-csp-utils/colab/update_gcc.sh\n",
            "    import os\n",
            "    os._exit(00)\n",
            "\n",
            "CELL 3:\n",
            "    ## Installing CondaColab.  This will restart your kernel again\n",
            "    import condacolab\n",
            "    condacolab.install()\n",
            "\n",
            "CELL 4:\n",
            "    import condacolab\n",
            "    condacolab.check()\n",
            "\n",
            "CELL 5:\n",
            "    # Installing RAPIDS is now 'python rapidsai-csp-utils/colab/install_rapids.py <release> <packages>'\n",
            "    # The <release> options are 'stable' and 'nightly'.  Leaving it blank or adding any other words will default to stable.\n",
            "    # The <packages> option are default blank or 'core'.  By default, we install RAPIDSAI and BlazingSQL.  The 'core' option will install only RAPIDSAI and not include BlazingSQL, \n",
            "    !python rapidsai-csp-utils/colab/install_rapids.py nightly\n",
            "    import os\n",
            "    os.environ['NUMBAPRO_NVVM'] = '/usr/local/cuda/nvvm/lib64/libnvvm.so'\n",
            "    os.environ['NUMBAPRO_LIBDEVICE'] = '/usr/local/cuda/nvvm/libdevice/'\n",
            "    os.environ['CONDA_PREFIX'] = '/usr/local'\n",
            "\n",
            "********************************************************************************************************\n",
            "\n",
            "Enjoy using RAPIDS!  If you have any issues with or suggestions for RAPIDSAI on Colab, please create a issue on https://github.com/rapidsai/rapidsai-csp-utils/issues/new.\n"
          ]
        }
      ]
    },
    {
      "cell_type": "code",
      "execution_count": null,
      "metadata": {
        "colab": {
          "base_uri": "https://localhost:8080/"
        },
        "id": "ePWMXKxWg9iX",
        "outputId": "7b6c24da-a574-4aca-f989-3ace0612087c"
      },
      "outputs": [
        {
          "output_type": "stream",
          "name": "stdout",
          "text": [
            "Mounted at /content/drive\n"
          ]
        }
      ],
      "source": [
        "from google.colab import drive\n",
        "drive.mount('/content/drive')"
      ]
    },
    {
      "cell_type": "code",
      "source": [
        "import pandas as pd\n",
        "import numpy as np\n",
        "import time\n",
        "from sklearn.preprocessing import LabelEncoder, StandardScaler\n",
        "\n",
        "df = pd.read_csv(\"/content/drive/MyDrive/yellow_tripdata.csv\", header=None, low_memory=False)"
      ],
      "metadata": {
        "id": "iV_1ZC_6hDtw"
      },
      "execution_count": null,
      "outputs": []
    },
    {
      "cell_type": "code",
      "source": [
        "# Confirm cuML is working\n",
        "import cuml\n",
        "import cupy as cp\n",
        "from cuml.cluster import KMeans\n",
        "print(\"cuML version:\", cuml.__version__)"
      ],
      "metadata": {
        "colab": {
          "base_uri": "https://localhost:8080/"
        },
        "id": "4Qm8R2x_2Loq",
        "outputId": "634ea4d3-142b-4764-e948-021e7867a96e"
      },
      "execution_count": null,
      "outputs": [
        {
          "output_type": "stream",
          "name": "stdout",
          "text": [
            "cuML version: 25.02.01\n"
          ]
        }
      ]
    },
    {
      "cell_type": "code",
      "source": [
        "df.columns = df.iloc[0]\n",
        "df = df[1:].reset_index(drop=True)"
      ],
      "metadata": {
        "id": "vXy4mPHMCv1q"
      },
      "execution_count": null,
      "outputs": []
    },
    {
      "cell_type": "code",
      "source": [
        "df['tpep_pickup_datetime'] = pd.to_datetime(df['tpep_pickup_datetime'])\n",
        "\n",
        "# Extract time features\n",
        "df['pickup_hour'] = df['tpep_pickup_datetime'].dt.hour\n",
        "df['pickup_dayofweek'] = df['tpep_pickup_datetime'].dt.dayofweek  # 0=Monday, 6=Sunday\n",
        "\n",
        "# Select features for clustering\n",
        "features = [\n",
        "    'passenger_count', 'trip_distance', 'pickup_longitude', 'pickup_latitude', 'pickup_hour',\n",
        "    'dropoff_longitude', 'dropoff_latitude', 'fare_amount', 'extra', 'pickup_dayofweek',\n",
        "    'mta_tax', 'tip_amount', 'tolls_amount', 'improvement_surcharge'\n",
        "]"
      ],
      "metadata": {
        "id": "4MKrUUJIC8Ls"
      },
      "execution_count": null,
      "outputs": []
    },
    {
      "cell_type": "code",
      "source": [
        "df_cluster = df[features]"
      ],
      "metadata": {
        "id": "M9KoV0CuDART"
      },
      "execution_count": null,
      "outputs": []
    },
    {
      "cell_type": "code",
      "source": [
        "df_cluster.dtypes"
      ],
      "metadata": {
        "colab": {
          "base_uri": "https://localhost:8080/",
          "height": 554
        },
        "id": "WJ0sYHM5tcJR",
        "outputId": "a7b9c32a-fee4-4f5d-e3bf-c0940cdccd1f"
      },
      "execution_count": null,
      "outputs": [
        {
          "output_type": "execute_result",
          "data": {
            "text/plain": [
              "0\n",
              "passenger_count          object\n",
              "trip_distance            object\n",
              "pickup_longitude         object\n",
              "pickup_latitude          object\n",
              "pickup_hour               int32\n",
              "dropoff_longitude        object\n",
              "dropoff_latitude         object\n",
              "fare_amount              object\n",
              "extra                    object\n",
              "pickup_dayofweek          int32\n",
              "mta_tax                  object\n",
              "tip_amount               object\n",
              "tolls_amount             object\n",
              "improvement_surcharge    object\n",
              "dtype: object"
            ],
            "text/html": [
              "<div>\n",
              "<style scoped>\n",
              "    .dataframe tbody tr th:only-of-type {\n",
              "        vertical-align: middle;\n",
              "    }\n",
              "\n",
              "    .dataframe tbody tr th {\n",
              "        vertical-align: top;\n",
              "    }\n",
              "\n",
              "    .dataframe thead th {\n",
              "        text-align: right;\n",
              "    }\n",
              "</style>\n",
              "<table border=\"1\" class=\"dataframe\">\n",
              "  <thead>\n",
              "    <tr style=\"text-align: right;\">\n",
              "      <th></th>\n",
              "      <th>0</th>\n",
              "    </tr>\n",
              "    <tr>\n",
              "      <th>0</th>\n",
              "      <th></th>\n",
              "    </tr>\n",
              "  </thead>\n",
              "  <tbody>\n",
              "    <tr>\n",
              "      <th>passenger_count</th>\n",
              "      <td>object</td>\n",
              "    </tr>\n",
              "    <tr>\n",
              "      <th>trip_distance</th>\n",
              "      <td>object</td>\n",
              "    </tr>\n",
              "    <tr>\n",
              "      <th>pickup_longitude</th>\n",
              "      <td>object</td>\n",
              "    </tr>\n",
              "    <tr>\n",
              "      <th>pickup_latitude</th>\n",
              "      <td>object</td>\n",
              "    </tr>\n",
              "    <tr>\n",
              "      <th>pickup_hour</th>\n",
              "      <td>int32</td>\n",
              "    </tr>\n",
              "    <tr>\n",
              "      <th>dropoff_longitude</th>\n",
              "      <td>object</td>\n",
              "    </tr>\n",
              "    <tr>\n",
              "      <th>dropoff_latitude</th>\n",
              "      <td>object</td>\n",
              "    </tr>\n",
              "    <tr>\n",
              "      <th>fare_amount</th>\n",
              "      <td>object</td>\n",
              "    </tr>\n",
              "    <tr>\n",
              "      <th>extra</th>\n",
              "      <td>object</td>\n",
              "    </tr>\n",
              "    <tr>\n",
              "      <th>pickup_dayofweek</th>\n",
              "      <td>int32</td>\n",
              "    </tr>\n",
              "    <tr>\n",
              "      <th>mta_tax</th>\n",
              "      <td>object</td>\n",
              "    </tr>\n",
              "    <tr>\n",
              "      <th>tip_amount</th>\n",
              "      <td>object</td>\n",
              "    </tr>\n",
              "    <tr>\n",
              "      <th>tolls_amount</th>\n",
              "      <td>object</td>\n",
              "    </tr>\n",
              "    <tr>\n",
              "      <th>improvement_surcharge</th>\n",
              "      <td>object</td>\n",
              "    </tr>\n",
              "  </tbody>\n",
              "</table>\n",
              "</div><br><label><b>dtype:</b> object</label>"
            ]
          },
          "metadata": {},
          "execution_count": 8
        }
      ]
    },
    {
      "cell_type": "code",
      "source": [
        "df_int32 = df.apply(pd.to_numeric, errors='coerce').fillna(0).astype('int32')"
      ],
      "metadata": {
        "id": "kiZ1OZ6Jum4S"
      },
      "execution_count": null,
      "outputs": []
    },
    {
      "cell_type": "code",
      "source": [
        "import cupy as cp\n",
        "import cudf\n",
        "from cuml.cluster import KMeans as cuKMeans\n",
        "from cuml.preprocessing import StandardScaler as cuStandardScaler\n",
        "from cuml.model_selection import train_test_split as cu_train_test_split\n",
        "import time\n",
        "\n",
        "# Convert to cuDF\n",
        "gdf = cudf.DataFrame.from_pandas(df_int32)\n",
        "\n",
        "# Standardize\n",
        "scaler = cuStandardScaler()\n",
        "X_gpu = scaler.fit_transform(gdf)\n",
        "\n",
        "X_train_gpu, X_test_gpu = cu_train_test_split(X_gpu, test_size=0.2, random_state=42)\n",
        "\n",
        "\n",
        "inertia_gpu = []\n",
        "for k in range(1, 11):\n",
        "    kmeans_gpu = cuKMeans(n_clusters=k, random_state=42)\n",
        "    kmeans_gpu.fit(X_train_gpu)\n",
        "    inertia_gpu.append(kmeans_gpu.inertia_)\n",
        "\n"
      ],
      "metadata": {
        "colab": {
          "base_uri": "https://localhost:8080/"
        },
        "id": "kVkzKEWIRo8c",
        "outputId": "b766d29d-997f-4abf-d085-22297bceec0a"
      },
      "execution_count": null,
      "outputs": [
        {
          "output_type": "stream",
          "name": "stderr",
          "text": [
            "/usr/local/lib/python3.11/dist-packages/cuml/internals/api_decorators.py:195: FutureWarning: The default value of `n_init` will change from 1 to 'auto' in 25.04. Set the value of `n_init` explicitly to suppress this warning.\n",
            "  return func(*args, **kwargs)\n"
          ]
        }
      ]
    },
    {
      "cell_type": "code",
      "source": [
        "import matplotlib.pyplot as plt\n",
        "import seaborn as sns\n",
        "\n",
        "plt.figure(figsize=(8, 5))\n",
        "sns.lineplot(x=range(1, 11), y=inertia_gpu, marker=\"o\")\n",
        "plt.xlabel(\"Number of Clusters (k)\")\n",
        "plt.ylabel(\"Inertia\")\n",
        "plt.title(\"Elbow Method for Optimal k\")\n",
        "plt.grid(True)\n",
        "plt.tight_layout()\n",
        "plt.show()"
      ],
      "metadata": {
        "id": "ZRQPrAzKVm0Y",
        "colab": {
          "base_uri": "https://localhost:8080/",
          "height": 507
        },
        "outputId": "ffdfebf7-c596-4b95-b9b8-8fc9a23848b4"
      },
      "execution_count": null,
      "outputs": [
        {
          "output_type": "display_data",
          "data": {
            "text/plain": [
              "<Figure size 800x500 with 1 Axes>"
            ],
            "image/png": "[encoded data removed]"
          },
          "metadata": {}
        }
      ]
    },
    {
      "cell_type": "code",
      "source": [
        "# Train KMeans on X_train_gpu\n",
        "start_train = time.time()\n",
        "\n",
        "kmeans_gpu = cuKMeans(n_clusters=5, random_state=42)\n",
        "kmeans_gpu.fit(X_train_gpu)\n",
        "\n",
        "end_train = time.time()\n",
        "\n",
        "train_time = end_train - start_train\n",
        "print(f\"GPU KMeans Training Time: {train_time:.4f} seconds\")"
      ],
      "metadata": {
        "colab": {
          "base_uri": "https://localhost:8080/"
        },
        "id": "mJPViEdmAAsS",
        "outputId": "0bfb69b8-d85a-441e-b8cf-b95deacf2b3b"
      },
      "execution_count": null,
      "outputs": [
        {
          "output_type": "stream",
          "name": "stdout",
          "text": [
            "GPU KMeans Training Time: 2.7799 seconds\n"
          ]
        },
        {
          "output_type": "stream",
          "name": "stderr",
          "text": [
            "/usr/local/lib/python3.11/dist-packages/cuml/internals/api_decorators.py:195: FutureWarning: The default value of `n_init` will change from 1 to 'auto' in 25.04. Set the value of `n_init` explicitly to suppress this warning.\n",
            "  return func(*args, **kwargs)\n"
          ]
        }
      ]
    },
    {
      "cell_type": "code",
      "source": [
        "# Predict on X_test_gpu\n",
        "start_pred = time.time()\n",
        "\n",
        "y_test_pred_gpu = kmeans_gpu.predict(X_test_gpu)\n",
        "\n",
        "end_pred = time.time()\n",
        "\n",
        "pred_time = end_pred - start_pred\n",
        "print(f\"GPU KMeans Prediction Time: {pred_time:.4f} seconds\")"
      ],
      "metadata": {
        "colab": {
          "base_uri": "https://localhost:8080/"
        },
        "id": "CsKvX9XQALUd",
        "outputId": "5ad1229d-5fbb-4e7a-a9a9-0a9791cebfdc"
      },
      "execution_count": null,
      "outputs": [
        {
          "output_type": "stream",
          "name": "stdout",
          "text": [
            "GPU KMeans Prediction Time: 0.1129 seconds\n"
          ]
        },
        {
          "output_type": "stream",
          "name": "stderr",
          "text": [
            "/usr/local/lib/python3.11/dist-packages/cuml/internals/api_decorators.py:193: FutureWarning: The default value of `n_init` will change from 1 to 'auto' in 25.04. Set the value of `n_init` explicitly to suppress this warning.\n",
            "  ret = func(*args, **kwargs)\n"
          ]
        }
      ]
    },
    {
      "cell_type": "code",
      "source": [
        "import cupy as cp\n",
        "def print_memory_usage_gb():\n",
        "  device = cp.cuda.Device(0)\n",
        "  free_mem, total_mem = device.mem_info\n",
        "  free_mem /= (1024 ** 3)\n",
        "  total_mem /= (1024 ** 3)\n",
        "  used_mem = total_mem - free_mem\n",
        "  print(f\"GPU VRAM Usage: {used_mem:.4f} GB out of {total_mem:.4f} GB\")\n",
        "\n",
        "print_memory_usage_gb()"
      ],
      "metadata": {
        "id": "55DK1yWbO35N",
        "colab": {
          "base_uri": "https://localhost:8080/"
        },
        "outputId": "bfbca249-b0a6-43e9-f87f-88063279ee2c"
      },
      "execution_count": null,
      "outputs": [
        {
          "output_type": "stream",
          "name": "stdout",
          "text": [
            "GPU VRAM Usage: 7.1161 GB out of 14.7413 GB\n"
          ]
        }
      ]
    }
  ]
}